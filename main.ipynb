{
 "cells": [
  {
   "cell_type": "code",
   "execution_count": 1,
   "metadata": {},
   "outputs": [],
   "source": [
    "import pandas as pd\n",
    "import numpy as np"
   ]
  },
  {
   "cell_type": "code",
   "execution_count": 2,
   "metadata": {},
   "outputs": [],
   "source": [
    "data = pd.read_csv('BINANCE_BTCUSDTPERP, 240 OI.csv')"
   ]
  },
  {
   "cell_type": "code",
   "execution_count": 3,
   "metadata": {},
   "outputs": [],
   "source": [
    "data.dropna(axis=1, how='all', inplace=True)"
   ]
  },
  {
   "cell_type": "code",
   "execution_count": 4,
   "metadata": {},
   "outputs": [],
   "source": [
    "data.dropna(inplace=True)"
   ]
  },
  {
   "cell_type": "code",
   "execution_count": 5,
   "metadata": {},
   "outputs": [
    {
     "name": "stdout",
     "output_type": "stream",
     "text": [
      "Index(['time', 'open', 'high', 'low', 'close', 'Volume', 'Volume MA',\n",
      "       'Crypto Open Interest (Ouverture)', 'Crypto Open Interest (Haut',\n",
      "       'Crypto Open Interest (Bas)', 'Crypto Open Interest (Fermeture)'],\n",
      "      dtype='object')\n"
     ]
    }
   ],
   "source": [
    "col = data.columns\n",
    "print(col)"
   ]
  },
  {
   "cell_type": "code",
   "execution_count": 6,
   "metadata": {},
   "outputs": [],
   "source": [
    "data.drop(col[0], axis=1, inplace=True)"
   ]
  },
  {
   "cell_type": "code",
   "execution_count": 7,
   "metadata": {},
   "outputs": [
    {
     "data": {
      "text/html": [
       "<div>\n",
       "<style scoped>\n",
       "    .dataframe tbody tr th:only-of-type {\n",
       "        vertical-align: middle;\n",
       "    }\n",
       "\n",
       "    .dataframe tbody tr th {\n",
       "        vertical-align: top;\n",
       "    }\n",
       "\n",
       "    .dataframe thead th {\n",
       "        text-align: right;\n",
       "    }\n",
       "</style>\n",
       "<table border=\"1\" class=\"dataframe\">\n",
       "  <thead>\n",
       "    <tr style=\"text-align: right;\">\n",
       "      <th></th>\n",
       "      <th>open</th>\n",
       "      <th>high</th>\n",
       "      <th>low</th>\n",
       "      <th>close</th>\n",
       "      <th>Volume</th>\n",
       "      <th>Volume MA</th>\n",
       "      <th>Crypto Open Interest (Ouverture)</th>\n",
       "      <th>Crypto Open Interest (Haut</th>\n",
       "      <th>Crypto Open Interest (Bas)</th>\n",
       "      <th>Crypto Open Interest (Fermeture)</th>\n",
       "    </tr>\n",
       "  </thead>\n",
       "  <tbody>\n",
       "    <tr>\n",
       "      <th>347</th>\n",
       "      <td>48550.00</td>\n",
       "      <td>48863.0</td>\n",
       "      <td>48205.63</td>\n",
       "      <td>48680.23</td>\n",
       "      <td>48212.780</td>\n",
       "      <td>61559.22555</td>\n",
       "      <td>59491.861</td>\n",
       "      <td>59496.616</td>\n",
       "      <td>58475.934</td>\n",
       "      <td>58627.253</td>\n",
       "    </tr>\n",
       "    <tr>\n",
       "      <th>348</th>\n",
       "      <td>48680.23</td>\n",
       "      <td>49556.2</td>\n",
       "      <td>48260.87</td>\n",
       "      <td>49273.28</td>\n",
       "      <td>54425.535</td>\n",
       "      <td>59378.35205</td>\n",
       "      <td>58606.715</td>\n",
       "      <td>58662.696</td>\n",
       "      <td>56943.638</td>\n",
       "      <td>57158.947</td>\n",
       "    </tr>\n",
       "    <tr>\n",
       "      <th>349</th>\n",
       "      <td>49273.28</td>\n",
       "      <td>50476.0</td>\n",
       "      <td>49100.00</td>\n",
       "      <td>50306.81</td>\n",
       "      <td>92444.018</td>\n",
       "      <td>59463.20575</td>\n",
       "      <td>57191.055</td>\n",
       "      <td>60965.881</td>\n",
       "      <td>57191.055</td>\n",
       "      <td>59982.045</td>\n",
       "    </tr>\n",
       "    <tr>\n",
       "      <th>350</th>\n",
       "      <td>50306.82</td>\n",
       "      <td>50443.0</td>\n",
       "      <td>50050.01</td>\n",
       "      <td>50180.25</td>\n",
       "      <td>38199.355</td>\n",
       "      <td>58720.45640</td>\n",
       "      <td>59974.239</td>\n",
       "      <td>61976.569</td>\n",
       "      <td>59926.054</td>\n",
       "      <td>61799.840</td>\n",
       "    </tr>\n",
       "    <tr>\n",
       "      <th>351</th>\n",
       "      <td>50180.26</td>\n",
       "      <td>50600.0</td>\n",
       "      <td>50000.00</td>\n",
       "      <td>50418.05</td>\n",
       "      <td>51298.339</td>\n",
       "      <td>58375.64015</td>\n",
       "      <td>61807.331</td>\n",
       "      <td>62271.403</td>\n",
       "      <td>61381.664</td>\n",
       "      <td>62268.871</td>\n",
       "    </tr>\n",
       "    <tr>\n",
       "      <th>...</th>\n",
       "      <td>...</td>\n",
       "      <td>...</td>\n",
       "      <td>...</td>\n",
       "      <td>...</td>\n",
       "      <td>...</td>\n",
       "      <td>...</td>\n",
       "      <td>...</td>\n",
       "      <td>...</td>\n",
       "      <td>...</td>\n",
       "      <td>...</td>\n",
       "    </tr>\n",
       "    <tr>\n",
       "      <th>1897</th>\n",
       "      <td>35466.70</td>\n",
       "      <td>35504.0</td>\n",
       "      <td>34150.00</td>\n",
       "      <td>34475.70</td>\n",
       "      <td>116406.159</td>\n",
       "      <td>66175.07805</td>\n",
       "      <td>91199.901</td>\n",
       "      <td>91496.416</td>\n",
       "      <td>89168.262</td>\n",
       "      <td>90707.932</td>\n",
       "    </tr>\n",
       "    <tr>\n",
       "      <th>1898</th>\n",
       "      <td>34475.70</td>\n",
       "      <td>34957.6</td>\n",
       "      <td>34316.90</td>\n",
       "      <td>34593.00</td>\n",
       "      <td>49841.833</td>\n",
       "      <td>67182.50505</td>\n",
       "      <td>90730.643</td>\n",
       "      <td>92226.546</td>\n",
       "      <td>90716.967</td>\n",
       "      <td>92134.571</td>\n",
       "    </tr>\n",
       "    <tr>\n",
       "      <th>1899</th>\n",
       "      <td>34592.90</td>\n",
       "      <td>34872.8</td>\n",
       "      <td>34500.00</td>\n",
       "      <td>34781.20</td>\n",
       "      <td>32927.810</td>\n",
       "      <td>67722.65440</td>\n",
       "      <td>92141.294</td>\n",
       "      <td>93988.342</td>\n",
       "      <td>92102.511</td>\n",
       "      <td>93980.774</td>\n",
       "    </tr>\n",
       "    <tr>\n",
       "      <th>1900</th>\n",
       "      <td>34780.50</td>\n",
       "      <td>34842.7</td>\n",
       "      <td>34256.50</td>\n",
       "      <td>34360.60</td>\n",
       "      <td>56606.284</td>\n",
       "      <td>69445.59300</td>\n",
       "      <td>93986.594</td>\n",
       "      <td>94227.764</td>\n",
       "      <td>92010.084</td>\n",
       "      <td>93527.285</td>\n",
       "    </tr>\n",
       "    <tr>\n",
       "      <th>1901</th>\n",
       "      <td>34360.60</td>\n",
       "      <td>34545.3</td>\n",
       "      <td>34300.20</td>\n",
       "      <td>34533.90</td>\n",
       "      <td>12249.087</td>\n",
       "      <td>68776.59590</td>\n",
       "      <td>93555.900</td>\n",
       "      <td>94754.876</td>\n",
       "      <td>93555.900</td>\n",
       "      <td>94739.047</td>\n",
       "    </tr>\n",
       "  </tbody>\n",
       "</table>\n",
       "<p>1555 rows × 10 columns</p>\n",
       "</div>"
      ],
      "text/plain": [
       "          open     high       low     close      Volume    Volume MA  \\\n",
       "347   48550.00  48863.0  48205.63  48680.23   48212.780  61559.22555   \n",
       "348   48680.23  49556.2  48260.87  49273.28   54425.535  59378.35205   \n",
       "349   49273.28  50476.0  49100.00  50306.81   92444.018  59463.20575   \n",
       "350   50306.82  50443.0  50050.01  50180.25   38199.355  58720.45640   \n",
       "351   50180.26  50600.0  50000.00  50418.05   51298.339  58375.64015   \n",
       "...        ...      ...       ...       ...         ...          ...   \n",
       "1897  35466.70  35504.0  34150.00  34475.70  116406.159  66175.07805   \n",
       "1898  34475.70  34957.6  34316.90  34593.00   49841.833  67182.50505   \n",
       "1899  34592.90  34872.8  34500.00  34781.20   32927.810  67722.65440   \n",
       "1900  34780.50  34842.7  34256.50  34360.60   56606.284  69445.59300   \n",
       "1901  34360.60  34545.3  34300.20  34533.90   12249.087  68776.59590   \n",
       "\n",
       "      Crypto Open Interest (Ouverture)  Crypto Open Interest (Haut  \\\n",
       "347                          59491.861                   59496.616   \n",
       "348                          58606.715                   58662.696   \n",
       "349                          57191.055                   60965.881   \n",
       "350                          59974.239                   61976.569   \n",
       "351                          61807.331                   62271.403   \n",
       "...                                ...                         ...   \n",
       "1897                         91199.901                   91496.416   \n",
       "1898                         90730.643                   92226.546   \n",
       "1899                         92141.294                   93988.342   \n",
       "1900                         93986.594                   94227.764   \n",
       "1901                         93555.900                   94754.876   \n",
       "\n",
       "      Crypto Open Interest (Bas)  Crypto Open Interest (Fermeture)  \n",
       "347                    58475.934                         58627.253  \n",
       "348                    56943.638                         57158.947  \n",
       "349                    57191.055                         59982.045  \n",
       "350                    59926.054                         61799.840  \n",
       "351                    61381.664                         62268.871  \n",
       "...                          ...                               ...  \n",
       "1897                   89168.262                         90707.932  \n",
       "1898                   90716.967                         92134.571  \n",
       "1899                   92102.511                         93980.774  \n",
       "1900                   92010.084                         93527.285  \n",
       "1901                   93555.900                         94739.047  \n",
       "\n",
       "[1555 rows x 10 columns]"
      ]
     },
     "execution_count": 7,
     "metadata": {},
     "output_type": "execute_result"
    }
   ],
   "source": [
    "data"
   ]
  },
  {
   "cell_type": "code",
   "execution_count": 8,
   "metadata": {},
   "outputs": [
    {
     "data": {
      "text/plain": [
       "<AxesSubplot:>"
      ]
     },
     "execution_count": 8,
     "metadata": {},
     "output_type": "execute_result"
    },
    {
     "data": {
      "image/png": "[encoded data removed]",
      "text/plain": [
       "<Figure size 432x288 with 1 Axes>"
      ]
     },
     "metadata": {
      "needs_background": "light"
     },
     "output_type": "display_data"
    }
   ],
   "source": [
    "data['close'].plot()"
   ]
  },
  {
   "cell_type": "code",
   "execution_count": 9,
   "metadata": {},
   "outputs": [
    {
     "data": {
      "text/plain": [
       "<AxesSubplot:>"
      ]
     },
     "execution_count": 9,
     "metadata": {},
     "output_type": "execute_result"
    },
    {
     "data": {
      "image/png": "[encoded data removed]",
      "text/plain": [
       "<Figure size 432x288 with 1 Axes>"
      ]
     },
     "metadata": {
      "needs_background": "light"
     },
     "output_type": "display_data"
    }
   ],
   "source": [
    "data[col[10]].plot()"
   ]
  },
  {
   "cell_type": "code",
   "execution_count": 10,
   "metadata": {
    "scrolled": true
   },
   "outputs": [
    {
     "data": {
      "text/plain": [
       "<AxesSubplot:>"
      ]
     },
     "execution_count": 10,
     "metadata": {},
     "output_type": "execute_result"
    },
    {
     "data": {
      "image/png": "[encoded data removed]",
      "text/plain": [
       "<Figure size 432x288 with 1 Axes>"
      ]
     },
     "metadata": {
      "needs_background": "light"
     },
     "output_type": "display_data"
    }
   ],
   "source": [
    "data[col[5]].plot(kind=\"bar\")"
   ]
  },
  {
   "cell_type": "code",
   "execution_count": 11,
   "metadata": {},
   "outputs": [
    {
     "data": {
      "text/plain": [
       "<AxesSubplot:>"
      ]
     },
     "execution_count": 11,
     "metadata": {},
     "output_type": "execute_result"
    },
    {
     "data": {
      "image/png": "[encoded data removed]",
      "text/plain": [
       "<Figure size 432x288 with 1 Axes>"
      ]
     },
     "metadata": {
      "needs_background": "light"
     },
     "output_type": "display_data"
    }
   ],
   "source": [
    "data[col[5]].plot.box()"
   ]
  },
  {
   "cell_type": "code",
   "execution_count": 12,
   "metadata": {},
   "outputs": [],
   "source": [
    "window_size = 10"
   ]
  },
  {
   "cell_type": "code",
   "execution_count": 13,
   "metadata": {},
   "outputs": [],
   "source": [
    "from sklearn.preprocessing import MinMaxScaler\n",
    "\n",
    "scaler = MinMaxScaler()\n",
    "scaled = scaler.fit_transform(data)"
   ]
  },
  {
   "cell_type": "code",
   "execution_count": 14,
   "metadata": {},
   "outputs": [],
   "source": [
    "training_data = scaled"
   ]
  },
  {
   "cell_type": "code",
   "execution_count": 15,
   "metadata": {},
   "outputs": [],
   "source": [
    "X_train = [] \n",
    "Y_train = []"
   ]
  },
  {
   "cell_type": "code",
   "execution_count": 16,
   "metadata": {},
   "outputs": [
    {
     "data": {
      "text/plain": [
       "1555"
      ]
     },
     "execution_count": 16,
     "metadata": {},
     "output_type": "execute_result"
    }
   ],
   "source": [
    "training_data.shape[0]"
   ]
  },
  {
   "cell_type": "code",
   "execution_count": 17,
   "metadata": {},
   "outputs": [],
   "source": [
    "for i in range(window_size, training_data.shape[0]):\n",
    "    X_train.append(training_data[i-window_size:i])\n",
    "    Y_train.append(training_data[i])"
   ]
  },
  {
   "cell_type": "code",
   "execution_count": 18,
   "metadata": {},
   "outputs": [
    {
     "name": "stdout",
     "output_type": "stream",
     "text": [
      "From (1555, 10) To (1545, 10, 10)\n"
     ]
    }
   ],
   "source": [
    "X_train, Y_train = np.array(X_train), np.array(Y_train)\n",
    "print(\"From\", data.shape, \"To\", X_train.shape)"
   ]
  },
  {
   "cell_type": "code",
   "execution_count": 19,
   "metadata": {},
   "outputs": [],
   "source": [
    "ratio = int(len(X_train)/window_size * 1/4)"
   ]
  },
  {
   "cell_type": "code",
   "execution_count": 20,
   "metadata": {},
   "outputs": [],
   "source": [
    "X_train, Y_train = X_train[:-window_size*ratio], Y_train[:-window_size*ratio]\n",
    "X_test, Y_test = X_train[len(X_train)-window_size*ratio:], Y_train[len(Y_train)-window_size*ratio:]"
   ]
  },
  {
   "cell_type": "code",
   "execution_count": 21,
   "metadata": {},
   "outputs": [
    {
     "name": "stdout",
     "output_type": "stream",
     "text": [
      "(1165, 10, 10)\n",
      "(380, 10, 10)\n"
     ]
    }
   ],
   "source": [
    "print(X_train.shape)\n",
    "print(X_test.shape)"
   ]
  },
  {
   "cell_type": "code",
   "execution_count": 22,
   "metadata": {},
   "outputs": [],
   "source": [
    "from tensorflow.keras import regularizers\n",
    "from tensorflow.keras.models import Sequential\n",
    "from tensorflow.keras.layers import *\n",
    "import tensorflow as tf\n",
    "\n",
    "model = Sequential()\n",
    "\n",
    "model.add(Normalization())\n",
    "\n",
    "model.add(LSTM(128, activation = 'relu', return_sequences = True, input_shape = (X_train.shape[1], X_train.shape[2])))\n",
    "\n",
    "model.add(Dropout(0.2)) \n",
    "model.add(LSTM(256, activation = 'relu', return_sequences = True))\n",
    "\n",
    "model.add(Dropout(0.3)) \n",
    "model.add(LSTM(512, activation = 'relu', return_sequences = True))\n",
    "\n",
    "model.add(Dropout(0.4)) \n",
    "model.add(LSTM(16, activation = 'relu'))\n",
    "\n",
    "model.add(Dropout(0.5)) \n",
    "model.add(Dense(len(Y_train[0])))\n",
    "\n",
    "optimizer = tf.keras.optimizers.Adam(clipnorm=1)\n",
    "\n",
    "\n",
    "model.compile(optimizer = optimizer, loss = 'mean_squared_error')"
   ]
  },
  {
   "cell_type": "code",
   "execution_count": 23,
   "metadata": {},
   "outputs": [
    {
     "name": "stdout",
     "output_type": "stream",
     "text": [
      "Epoch 1/40\n",
      "6/6 [==============================] - 7s 499ms/step - loss: 0.1712 - val_loss: 0.0725\n",
      "Epoch 2/40\n",
      "6/6 [==============================] - 2s 328ms/step - loss: 0.1203 - val_loss: 0.1103\n",
      "Epoch 3/40\n",
      "6/6 [==============================] - 2s 416ms/step - loss: 0.1103 - val_loss: 0.0724\n",
      "Epoch 4/40\n",
      "6/6 [==============================] - 3s 465ms/step - loss: 0.0985 - val_loss: 0.0745\n",
      "Epoch 5/40\n",
      "6/6 [==============================] - 2s 363ms/step - loss: 0.0914 - val_loss: 0.0656\n",
      "Epoch 6/40\n",
      "6/6 [==============================] - 2s 360ms/step - loss: 0.0874 - val_loss: 0.0586\n",
      "Epoch 7/40\n",
      "6/6 [==============================] - 2s 392ms/step - loss: 0.0807 - val_loss: 0.0552\n",
      "Epoch 8/40\n",
      "6/6 [==============================] - 2s 347ms/step - loss: 0.0761 - val_loss: 0.0490\n",
      "Epoch 9/40\n",
      "6/6 [==============================] - 2s 326ms/step - loss: 0.0728 - val_loss: 0.0404\n",
      "Epoch 10/40\n",
      "6/6 [==============================] - 2s 326ms/step - loss: 0.0701 - val_loss: 0.0450\n",
      "Epoch 11/40\n",
      "6/6 [==============================] - 2s 383ms/step - loss: 0.0687 - val_loss: 0.0427\n",
      "Epoch 12/40\n",
      "6/6 [==============================] - 3s 451ms/step - loss: 0.0662 - val_loss: 0.0381\n",
      "Epoch 13/40\n",
      "6/6 [==============================] - 2s 366ms/step - loss: 0.0648 - val_loss: 0.0440\n",
      "Epoch 14/40\n",
      "6/6 [==============================] - 2s 322ms/step - loss: 0.0626 - val_loss: 0.0403\n",
      "Epoch 15/40\n",
      "6/6 [==============================] - 2s 317ms/step - loss: 0.0592 - val_loss: 0.0336\n",
      "Epoch 16/40\n",
      "6/6 [==============================] - 2s 353ms/step - loss: 0.0596 - val_loss: 0.0343\n",
      "Epoch 17/40\n",
      "6/6 [==============================] - 2s 389ms/step - loss: 0.0586 - val_loss: 0.0349\n",
      "Epoch 18/40\n",
      "6/6 [==============================] - 2s 346ms/step - loss: 0.0561 - val_loss: 0.0283\n",
      "Epoch 19/40\n",
      "6/6 [==============================] - 2s 324ms/step - loss: 0.0531 - val_loss: 0.0330\n",
      "Epoch 20/40\n",
      "6/6 [==============================] - 2s 354ms/step - loss: 0.0532 - val_loss: 0.0247\n",
      "Epoch 21/40\n",
      "6/6 [==============================] - 2s 374ms/step - loss: 0.0497 - val_loss: 0.0342\n",
      "Epoch 22/40\n",
      "6/6 [==============================] - 3s 463ms/step - loss: 0.0515 - val_loss: 0.0235\n",
      "Epoch 23/40\n",
      "6/6 [==============================] - 2s 390ms/step - loss: 0.0476 - val_loss: 0.0270\n",
      "Epoch 24/40\n",
      "6/6 [==============================] - 2s 399ms/step - loss: 0.0473 - val_loss: 0.0287\n",
      "Epoch 25/40\n",
      "6/6 [==============================] - 2s 367ms/step - loss: 0.0457 - val_loss: 0.0226\n",
      "Epoch 26/40\n",
      "6/6 [==============================] - 2s 390ms/step - loss: 0.0464 - val_loss: 0.0287\n",
      "Epoch 27/40\n",
      "6/6 [==============================] - 2s 345ms/step - loss: 0.0433 - val_loss: 0.0203\n",
      "Epoch 28/40\n",
      "6/6 [==============================] - 2s 312ms/step - loss: 0.0417 - val_loss: 0.0236\n",
      "Epoch 29/40\n",
      "6/6 [==============================] - 2s 296ms/step - loss: 0.0422 - val_loss: 0.0223\n",
      "Epoch 30/40\n",
      "6/6 [==============================] - 2s 326ms/step - loss: 0.0421 - val_loss: 0.0209\n",
      "Epoch 31/40\n",
      "6/6 [==============================] - 2s 368ms/step - loss: 0.0401 - val_loss: 0.0183\n",
      "Epoch 32/40\n",
      "6/6 [==============================] - 2s 331ms/step - loss: 0.0386 - val_loss: 0.0193\n",
      "Epoch 33/40\n",
      "6/6 [==============================] - 2s 297ms/step - loss: 0.0379 - val_loss: 0.0165\n",
      "Epoch 34/40\n",
      "6/6 [==============================] - 2s 299ms/step - loss: 0.0369 - val_loss: 0.0201\n",
      "Epoch 35/40\n",
      "6/6 [==============================] - 2s 300ms/step - loss: 0.0352 - val_loss: 0.0204\n",
      "Epoch 36/40\n",
      "6/6 [==============================] - 2s 381ms/step - loss: 0.0372 - val_loss: 0.0165\n",
      "Epoch 37/40\n",
      "6/6 [==============================] - 3s 434ms/step - loss: 0.0347 - val_loss: 0.0162\n",
      "Epoch 38/40\n",
      "6/6 [==============================] - 2s 365ms/step - loss: 0.0345 - val_loss: 0.0172\n",
      "Epoch 39/40\n",
      "6/6 [==============================] - 2s 408ms/step - loss: 0.0338 - val_loss: 0.0154\n",
      "Epoch 40/40\n",
      "6/6 [==============================] - 2s 338ms/step - loss: 0.0322 - val_loss: 0.0215\n"
     ]
    }
   ],
   "source": [
    "history= model.fit(X_train, Y_train, epochs = 40, batch_size =200, validation_split=0.1)"
   ]
  },
  {
   "cell_type": "code",
   "execution_count": 25,
   "metadata": {},
   "outputs": [
    {
     "name": "stdout",
     "output_type": "stream",
     "text": [
      "Model: \"sequential\"\n",
      "_________________________________________________________________\n",
      " Layer (type)                Output Shape              Param #   \n",
      "=================================================================\n",
      " normalization (Normalizatio  (None, 10, 10)           21        \n",
      " n)                                                              \n",
      "                                                                 \n",
      " lstm (LSTM)                 (None, 10, 128)           71168     \n",
      "                                                                 \n",
      " dropout (Dropout)           (None, 10, 128)           0         \n",
      "                                                                 \n",
      " lstm_1 (LSTM)               (None, 10, 256)           394240    \n",
      "                                                                 \n",
      " dropout_1 (Dropout)         (None, 10, 256)           0         \n",
      "                                                                 \n",
      " lstm_2 (LSTM)               (None, 10, 512)           1574912   \n",
      "                                                                 \n",
      " dropout_2 (Dropout)         (None, 10, 512)           0         \n",
      "                                                                 \n",
      " lstm_3 (LSTM)               (None, 16)                33856     \n",
      "                                                                 \n",
      " dropout_3 (Dropout)         (None, 16)                0         \n",
      "                                                                 \n",
      " dense (Dense)               (None, 10)                170       \n",
      "                                                                 \n",
      "=================================================================\n",
      "Total params: 2,074,367\n",
      "Trainable params: 2,074,346\n",
      "Non-trainable params: 21\n",
      "_________________________________________________________________\n"
     ]
    }
   ],
   "source": [
    "model.summary()"
   ]
  },
  {
   "cell_type": "code",
   "execution_count": 26,
   "metadata": {},
   "outputs": [
    {
     "data": {
      "image/png": "[encoded data removed]",
      "text/plain": [
       "<Figure size 432x288 with 1 Axes>"
      ]
     },
     "metadata": {
      "needs_background": "light"
     },
     "output_type": "display_data"
    }
   ],
   "source": [
    "import matplotlib.pyplot as plt\n",
    "\n",
    "loss = history.history['loss']\n",
    "val_loss = history.history['val_loss']\n",
    "epochs = range(len(loss))\n",
    "plt.figure()\n",
    "plt.plot(epochs, loss, 'b', label='Training loss')\n",
    "plt.plot(epochs, val_loss, 'r', label='Validation loss')\n",
    "plt.title(\"Training and Validation Loss\")\n",
    "plt.legend()\n",
    "plt.show()"
   ]
  },
  {
   "cell_type": "code",
   "execution_count": 27,
   "metadata": {
    "scrolled": true
   },
   "outputs": [
    {
     "data": {
      "text/plain": [
       "380"
      ]
     },
     "execution_count": 27,
     "metadata": {},
     "output_type": "execute_result"
    }
   ],
   "source": [
    "len(X_test)"
   ]
  },
  {
   "cell_type": "code",
   "execution_count": 28,
   "metadata": {},
   "outputs": [],
   "source": [
    "def diff_perc(entree, sortie):\n",
    "    perc = abs(sortie - entree) / entree\n",
    "    if sortie - entree > 0:\n",
    "        return perc\n",
    "    else:\n",
    "        return -perc"
   ]
  },
  {
   "cell_type": "code",
   "execution_count": 29,
   "metadata": {
    "scrolled": true
   },
   "outputs": [
    {
     "name": "stdout",
     "output_type": "stream",
     "text": [
      "WARNING:tensorflow:Model was constructed with shape (None, 10, 10) for input KerasTensor(type_spec=TensorSpec(shape=(None, 10, 10), dtype=tf.float32, name='normalization_input'), name='normalization_input', description=\"created by layer 'normalization_input'\"), but it was called on an input with incompatible shape (None, 10).\n",
      "134\r"
     ]
    },
    {
     "name": "stderr",
     "output_type": "stream",
     "text": [
      "<ipython-input-28-11df620ac0d7>:2: RuntimeWarning: divide by zero encountered in double_scalars\n",
      "  perc = abs(sortie - entree) / entree\n"
     ]
    },
    {
     "name": "stdout",
     "output_type": "stream",
     "text": [
      "359\r"
     ]
    }
   ],
   "source": [
    "depth = 20\n",
    "tries = 0\n",
    "val = []\n",
    "\n",
    "perc = []\n",
    "\n",
    "for num in range(1, len(X_test) - depth):\n",
    "    print(num, end='\\r')\n",
    "    pred = []\n",
    "    price = X_test[num]\n",
    "    tries += 1\n",
    "\n",
    "    for i in range(depth):\n",
    "\n",
    "        pred_1 = model.predict(price)\n",
    "        pred.append(pred_1[0][0])\n",
    "\n",
    "        price = list(price)\n",
    "        price.append(pred_1[0])\n",
    "        price = np.array(price[1:])\n",
    "\n",
    "\n",
    "    real = Y_test[num:depth+num, 1]\n",
    "    perc.append( [diff_perc(pred[0], pred[-1]) , diff_perc(real[0], real[-1])] ) \n",
    "\n",
    "    val.append( (pred[-1] - pred[0])* (real[-1] - real[0]) >= 0 )\n",
    "\n",
    "perc = np.array(perc)\n",
    "perc = perc*100"
   ]
  },
  {
   "cell_type": "code",
   "execution_count": 30,
   "metadata": {},
   "outputs": [],
   "source": [
    "counts = np.array(np.unique(val, return_counts=True)).T"
   ]
  },
  {
   "cell_type": "code",
   "execution_count": 31,
   "metadata": {},
   "outputs": [
    {
     "name": "stdout",
     "output_type": "stream",
     "text": [
      "76.6016713091922  % of correct trends on 359 tries\n"
     ]
    }
   ],
   "source": [
    "print(counts[1][1] / len(val) *100, \" % of correct trends on\", tries, \"tries\")"
   ]
  },
  {
   "cell_type": "code",
   "execution_count": 32,
   "metadata": {
    "scrolled": true
   },
   "outputs": [
    {
     "name": "stdout",
     "output_type": "stream",
     "text": [
      "[[-2.66334355e+01 -5.16282782e+00]\n",
      " [-2.67117739e+01 -5.97380999e+00]\n",
      " [-2.76299745e+01 -2.31783230e+01]\n",
      " [-2.82831699e+01 -2.82179991e+01]\n",
      " [-2.84361273e+01 -3.11316761e+01]\n",
      " [-2.87166059e+01 -3.07957276e+01]\n",
      " [-2.89802551e+01 -3.21399926e+01]\n",
      " [-2.89630622e+01 -3.08894334e+01]\n",
      " [-2.90400237e+01 -2.59752710e+01]\n",
      " [-2.93035746e+01 -2.81526988e+01]\n",
      " [-2.95916080e+01 -3.78451454e+01]\n",
      " [-2.94877857e+01 -2.94193213e+01]\n",
      " [-2.92870879e+01 -3.19109230e+01]\n",
      " [-2.91608304e+01 -3.92928792e+01]\n",
      " [-2.91774541e+01 -3.89998370e+01]\n",
      " [-2.91802227e+01 -3.46122340e+01]\n",
      " [-2.87379920e+01 -3.75261953e+01]\n",
      " [-2.78079152e+01 -3.56394357e+01]\n",
      " [-2.66102821e+01 -3.95518091e+01]\n",
      " [-2.61175811e+01 -4.08087478e+01]\n",
      " [-2.63765574e+01 -3.51724138e+01]\n",
      " [-2.69875526e+01 -2.54242135e+01]\n",
      " [-2.81749457e+01 -1.77587305e+01]\n",
      " [-2.70054251e+01 -1.41221160e+01]\n",
      " [-2.46107399e+01 -1.49887239e+01]\n",
      " [-2.16461778e+01 -5.55768804e+00]\n",
      " [-1.80918515e+01 -7.81573318e+00]\n",
      " [-1.38581604e+01 -1.67008323e+01]\n",
      " [-9.59370434e+00 -1.04113766e+01]\n",
      " [-7.41105378e+00  2.20827841e+00]\n",
      " [-6.19929023e+00 -1.56471271e+01]\n",
      " [-5.96132092e+00 -7.70939270e+00]\n",
      " [-7.45724589e+00 -4.44717472e+00]\n",
      " [-4.74861413e+00  4.06711657e+00]\n",
      " [-1.75233819e+00  1.29885249e+00]\n",
      " [ 1.04567045e+00  9.28441442e+00]\n",
      " [ 3.70119549e+00  1.03990906e-01]\n",
      " [ 6.60520419e+00  1.40056892e+01]\n",
      " [ 8.27418268e+00  1.82937464e+01]\n",
      " [ 7.57645145e+00  7.69674593e+00]\n",
      " [ 5.28166890e+00  8.89684264e+00]\n",
      " [ 4.71951813e+00  1.74375157e+01]\n",
      " [ 3.15645114e+00  2.73276290e+01]\n",
      " [ 2.78503932e+00  2.57757824e+01]\n",
      " [ 3.18943299e+00  1.86531585e+01]\n",
      " [ 3.57492790e+00  1.49620648e+01]\n",
      " [ 3.71569619e+00  2.28125000e+01]\n",
      " [ 3.23904715e+00  2.25802683e+01]\n",
      " [ 1.98098850e+00  2.96402150e+01]\n",
      " [-1.32629210e+00  2.59804596e+01]\n",
      " [-4.56085578e+00  9.25906446e+00]\n",
      " [-4.34266031e+00  1.01309353e+01]\n",
      " [-2.58889254e+00  7.23627070e+00]\n",
      " [-5.52788610e-01  4.21424110e+00]\n",
      " [ 1.62418243e+00  7.80119090e+00]\n",
      " [ 4.44257185e+00  1.51241248e+01]\n",
      " [ 7.28847608e+00  3.78433831e+00]\n",
      " [ 8.69989321e+00  9.27477700e-01]\n",
      " [ 9.52746049e+00  1.64172565e+00]\n",
      " [ 8.84812474e+00  4.88238056e+00]\n",
      " [ 1.11494921e+00 -5.97208484e-01]\n",
      " [-2.35366486e+00 -5.35481429e+00]\n",
      " [-2.94570811e+00 -7.34908136e-01]\n",
      " [-2.92019900e+00 -1.16857860e+01]\n",
      " [-2.93389671e+00 -8.30909868e+00]\n",
      " [-4.08773907e+00 -5.32421544e+00]\n",
      " [-5.86056896e+00 -6.09737905e+00]\n",
      " [-7.74238408e+00 -9.27178342e+00]\n",
      " [-8.90315846e+00 -2.73074823e+00]\n",
      " [-1.00643754e+01  3.49029300e+00]\n",
      " [-1.13033265e+01  2.22590151e+00]\n",
      " [-1.17328443e+01 -7.32886343e-01]\n",
      " [-1.15683079e+01  9.78141651e-01]\n",
      " [-1.06725372e+01 -9.13936702e+00]\n",
      " [-9.62800309e+00 -1.12794427e+01]\n",
      " [-8.33096951e+00 -1.13893465e+01]\n",
      " [-7.84966722e+00 -9.52913501e+00]\n",
      " [-6.72973767e+00 -1.20193363e+01]\n",
      " [-6.57099485e+00 -1.50246281e+01]\n",
      " [-6.73720241e+00 -1.78190225e+01]\n",
      " [-7.64357820e+00 -9.64769648e+00]\n",
      " [-8.69342014e+00 -1.37612903e+01]\n",
      " [-1.01743318e+01 -1.47947832e+01]\n",
      " [-1.20717160e+01 -1.20974740e+01]\n",
      " [-1.38118342e+01 -8.17284111e+00]\n",
      " [-1.41367167e+01 -1.15006807e+01]\n",
      " [-1.45694196e+01 -1.62061074e+01]\n",
      " [-1.47063434e+01 -1.32720943e+01]\n",
      " [-1.48568586e+01 -1.14995825e+01]\n",
      " [-1.46918222e+01 -8.52813782e+00]\n",
      " [-1.49333954e+01  6.46604149e+00]\n",
      " [-1.46141097e+01  8.61887832e+00]\n",
      " [-1.46783382e+01  5.47910046e+00]\n",
      " [-1.52153671e+01 -1.58574099e+01]\n",
      " [-1.52829021e+01 -4.03538671e+01]\n",
      " [-1.50113642e+01 -3.82286495e+01]\n",
      " [-1.48491994e+01 -3.91221572e+01]\n",
      " [-1.43498838e+01 -3.80967245e+01]\n",
      " [-1.37659997e+01 -4.44783324e+01]\n",
      " [-1.25985309e+01 -7.03330534e+01]\n",
      " [-1.18483856e+01 -7.46531402e+01]\n",
      " [-1.02841355e+01 -7.88390556e+01]\n",
      " [-9.22995061e+00 -7.64906229e+01]\n",
      " [-8.61639008e+00 -8.60609756e+01]\n",
      " [-7.87806511e+00 -8.24107605e+01]\n",
      " [-6.75922409e+00 -8.48595088e+01]\n",
      " [-5.56239523e+00 -8.19114555e+01]\n",
      " [-4.94607575e+00 -7.72706587e+01]\n",
      " [-5.04732393e+00 -7.82799499e+01]\n",
      " [-5.01011200e+00 -8.79183068e+01]\n",
      " [-5.23808263e+00 -7.64817486e+01]\n",
      " [-5.19305095e+00 -7.79320533e+01]\n",
      " [-6.62176684e+00 -8.36610989e+01]\n",
      " [-7.39805624e+00 -7.43363292e+01]\n",
      " [-5.78303710e+00 -1.00000000e+02]\n",
      " [-2.37521064e+00 -5.56200702e+01]\n",
      " [ 1.89007688e+00 -3.22765957e+01]\n",
      " [ 7.35612661e+00 -4.37202563e+01]\n",
      " [ 1.32240951e+01 -1.36585326e+01]\n",
      " [ 2.01843768e+01  1.84879642e+01]\n",
      " [ 2.69031405e+01  7.76685003e+01]\n",
      " [ 3.36543888e+01  7.51574005e+01]\n",
      " [ 3.94830436e+01  1.39416448e+02]\n",
      " [ 4.16723251e+01  1.22182849e+02]\n",
      " [ 4.91453290e+01  2.13636992e+02]\n",
      " [ 5.69827437e+01  1.78811024e+02]\n",
      " [ 5.98440528e+01  1.33517949e+02]\n",
      " [ 6.63862288e+01  1.65589474e+02]\n",
      " [ 6.38082564e+01  1.91563754e+02]\n",
      " [ 6.87108755e+01  2.65205026e+01]\n",
      " [ 7.06998289e+01  1.44917644e+00]\n",
      " [ 6.50485933e+01  1.20488667e+02]\n",
      " [ 6.32791519e+01  1.31174089e+02]\n",
      " [ 5.96380353e+01             inf]\n",
      " [ 5.91505051e+01  3.73256373e+01]\n",
      " [ 6.19163334e+01 -2.41910148e+00]\n",
      " [ 6.54882371e+01  3.53639424e+01]\n",
      " [ 6.93947732e+01  1.89639344e+01]\n",
      " [ 7.33544171e+01  2.03920207e+01]\n",
      " [ 7.74621487e+01  7.01870875e+00]\n",
      " [ 8.22485924e+01  1.36494373e+01]\n",
      " [ 8.76870096e+01  3.27959131e+01]\n",
      " [ 9.11134064e+01  1.46411483e+01]\n",
      " [ 8.13138127e+01 -1.34425344e+00]\n",
      " [ 6.64929271e+01 -7.43005759e-01]\n",
      " [ 5.47175586e+01 -1.31994812e+01]\n",
      " [ 5.15259087e+01 -2.98662580e+00]\n",
      " [ 5.01883268e+01  2.28460667e+01]\n",
      " [ 4.92752045e+01  4.46602905e+01]\n",
      " [ 4.78778452e+01  1.10922660e+02]\n",
      " [ 4.52101350e+01  5.63135539e+01]\n",
      " [ 4.53929394e+01  3.08984238e+01]\n",
      " [ 4.77332026e+01  6.03276529e+01]\n",
      " [ 5.14538646e+01  2.58493870e+01]\n",
      " [ 5.47831714e+01 -8.89858339e+00]\n",
      " [ 5.71620643e+01 -4.79199997e+00]\n",
      " [ 5.76961160e+01  3.91798038e+01]\n",
      " [ 5.28267443e+01  4.91316795e+01]\n",
      " [ 5.01005888e+01  4.53417386e+01]\n",
      " [ 4.79603320e+01  1.72366621e+01]\n",
      " [ 4.64322269e+01  1.77765548e+01]\n",
      " [ 4.42437261e+01  3.23038397e+01]\n",
      " [ 4.07244146e+01  3.14086592e+01]\n",
      " [ 3.70951027e+01  2.71390696e+01]\n",
      " [ 3.38384986e+01  2.63147350e+01]\n",
      " [ 3.29767913e+01  1.88926767e+00]\n",
      " [ 3.19155991e+01  6.59496459e+00]\n",
      " [ 2.92993993e+01  7.52688172e+00]\n",
      " [ 2.51892239e+01  7.48901921e+00]\n",
      " [ 2.36944914e+01 -1.31641734e+01]\n",
      " [ 2.29107991e+01 -1.20987919e+01]\n",
      " [ 2.19424263e+01 -3.08087291e+01]\n",
      " [ 2.07036018e+01 -2.40467576e+01]\n",
      " [ 1.94897428e+01 -3.17994353e+00]\n",
      " [ 1.78499147e+01 -1.25388781e+01]\n",
      " [ 1.66971967e+01 -2.20650636e+01]\n",
      " [ 1.58669338e+01 -3.06302639e+01]\n",
      " [ 1.58230677e+01 -2.94493905e+01]\n",
      " [ 1.64081514e+01 -1.00816803e+01]\n",
      " [ 1.69996694e+01 -9.01869159e+00]\n",
      " [ 1.71973914e+01  1.60519453e+01]\n",
      " [ 1.69678807e+01  3.88053388e+01]\n",
      " [ 1.71047375e+01  5.04856305e+01]\n",
      " [ 1.66136667e+01  6.69089788e+01]\n",
      " [ 1.65741503e+01  6.50069723e+01]\n",
      " [ 1.66953757e+01  7.45052189e+01]\n",
      " [ 1.64029971e+01  7.78141677e+01]\n",
      " [ 1.57117814e+01  7.10530761e+01]\n",
      " [ 1.58133835e+01  1.24774241e+02]\n",
      " [ 1.59603268e+01  1.21859361e+02]\n",
      " [ 1.63645416e+01  1.72912801e+02]\n",
      " [ 1.63054362e+01  1.68962990e+02]\n",
      " [ 1.62514582e+01  1.94017805e+02]\n",
      " [ 1.65570632e+01  1.82242552e+02]\n",
      " [ 1.83557481e+01  2.01698730e+02]\n",
      " [ 2.07591325e+01  1.81600656e+02]\n",
      " [ 2.26230875e+01  1.83024973e+02]\n",
      " [ 2.45663822e+01  1.18326499e+02]\n",
      " [ 2.48011634e+01  1.45064458e+02]\n",
      " [ 2.53006637e+01  8.47709518e+01]\n",
      " [ 2.52568543e+01  5.45695253e+01]\n",
      " [ 2.57702827e+01  3.28460028e+01]\n",
      " [ 2.64894992e+01  4.85416392e+01]\n",
      " [ 2.63877481e+01  4.26264874e+01]\n",
      " [ 2.60203123e+01  3.15891272e+01]\n",
      " [ 2.57060409e+01  2.40964991e+01]\n",
      " [ 2.47016162e+01  3.41255415e+01]\n",
      " [ 2.32988358e+01  3.45083558e+01]\n",
      " [ 1.99727461e+01  3.12416988e+01]\n",
      " [ 1.59220770e+01  3.03738953e+01]\n",
      " [ 7.34857768e+00  3.74855586e+01]\n",
      " [ 3.15623023e+00  2.86033520e+01]\n",
      " [ 1.09780626e+00  4.18438756e+01]\n",
      " [ 7.43966037e-01  2.08099329e+01]\n",
      " [ 7.52985477e-01  1.36529814e+01]\n",
      " [ 7.52987759e-01  2.37870127e+01]\n",
      " [ 8.02803133e-01  3.49838091e+01]\n",
      " [ 4.38993378e-01  2.05357751e+01]\n",
      " [ 5.33040613e-01  3.80045037e-01]\n",
      " [ 5.41493017e-01 -6.92037066e+00]\n",
      " [ 1.06281005e+00 -7.85951986e+00]\n",
      " [ 7.20711984e-01 -1.77067970e+01]\n",
      " [-8.98107793e-01 -9.55986749e+00]\n",
      " [-2.13804413e+00 -2.40947347e+00]\n",
      " [-3.84245329e+00 -8.88860353e+00]\n",
      " [-5.41978404e+00 -1.89433831e+01]\n",
      " [-5.87191135e+00 -1.91124310e+01]\n",
      " [-6.52291477e+00 -1.53608991e+01]\n",
      " [-7.27280304e+00 -1.57389717e+01]\n",
      " [-6.98456913e+00 -1.44324299e+01]\n",
      " [-5.85069023e+00 -1.89672748e+01]\n",
      " [-5.92084341e+00 -2.22702986e+01]\n",
      " [-6.25221804e+00 -1.94043109e+01]\n",
      " [-7.71509334e+00 -1.49485988e+01]\n",
      " [-9.30898488e+00 -2.23195246e+01]\n",
      " [-1.07449479e+01 -2.75649494e+01]\n",
      " [-1.31052285e+01 -2.93023256e+01]\n",
      " [-1.25180647e+01 -2.35555564e+01]\n",
      " [-1.18907951e+01 -1.47099115e+01]\n",
      " [-9.70767885e+00 -1.10337972e+01]\n",
      " [-6.15392849e+00 -8.20828970e+00]\n",
      " [-1.53809125e+00 -1.05913134e+01]\n",
      " [ 3.14270891e+00 -1.02368553e+01]\n",
      " [ 6.06793463e+00  9.63489916e+00]\n",
      " [ 6.60585612e+00  1.57841887e+01]\n",
      " [ 4.99149673e+00  2.50749412e+01]\n",
      " [-2.87781917e+00  2.53006214e+01]\n",
      " [-1.93693880e+00  2.25774432e+01]\n",
      " [-8.58048350e-01  2.08106543e+01]\n",
      " [ 2.12440777e-02  2.14150757e+01]\n",
      " [-1.27259246e-01  2.07656947e+01]\n",
      " [-1.45861437e-01  2.31694057e+01]\n",
      " [-9.82168224e-01  1.87629859e+01]\n",
      " [-1.25246448e+00  1.87140128e+01]\n",
      " [-1.20742861e+00  2.19696049e+01]\n",
      " [-1.47602456e+00  2.05730448e+01]\n",
      " [-2.29121856e+00  2.26479482e+01]\n",
      " [-3.16429585e+00  2.07426515e+01]\n",
      " [-3.94202806e+00  1.17666046e+01]\n",
      " [-4.26412150e+00 -8.90442539e+00]\n",
      " [-4.66694906e+00 -2.00269226e+01]\n",
      " [-4.82317954e+00 -2.18032729e+01]\n",
      " [-5.08257374e+00 -3.12887063e+01]\n",
      " [-4.93606441e+00 -3.00996607e+01]\n",
      " [-4.81194742e+00 -3.62413715e+01]\n",
      " [-5.19269072e+00 -4.00167587e+01]\n",
      " [-5.39082661e+00 -4.01837641e+01]\n",
      " [-6.46772981e+00 -4.29620399e+01]\n",
      " [-8.21173117e+00 -4.02097765e+01]\n",
      " [-1.02950394e+01 -3.96885736e+01]\n",
      " [-1.27743378e+01 -4.27674281e+01]\n",
      " [-1.47973716e+01 -3.91835700e+01]\n",
      " [-1.67270511e+01 -4.21732599e+01]\n",
      " [-1.75419942e+01 -4.26325758e+01]\n",
      " [-1.75740823e+01 -4.40744518e+01]\n",
      " [-1.74456522e+01 -5.32617757e+01]\n",
      " [-1.72249824e+01 -5.60826873e+01]\n",
      " [-1.73456699e+01 -5.40709557e+01]\n",
      " [-1.76253051e+01 -4.04348724e+01]\n",
      " [-1.76524311e+01 -2.62305880e+01]\n",
      " [-1.64243519e+01 -2.17317513e+01]\n",
      " [-1.40034333e+01 -2.22014344e+01]\n",
      " [-1.11688033e+01 -2.48445321e+01]\n",
      " [-7.79177025e+00 -2.55502571e+01]\n",
      " [-4.11923267e+00 -3.25357043e+01]\n",
      " [ 2.23755091e-01 -4.75979879e+01]\n",
      " [ 4.53671291e+00 -5.11781117e+01]\n",
      " [ 7.47640878e+00 -4.21861923e+01]\n",
      " [ 8.98642540e+00 -3.30445920e+01]\n",
      " [ 1.01485811e+01 -3.34390885e+01]\n",
      " [ 1.06764458e+01 -3.15434003e+01]\n",
      " [ 1.17317118e+01 -3.08936612e+01]\n",
      " [ 1.18852243e+01 -3.31896926e+01]\n",
      " [ 1.09582476e+01 -1.24099571e+01]\n",
      " [ 7.39020705e+00  9.36454849e+00]\n",
      " [ 5.75572029e+00  4.14215109e+00]\n",
      " [ 6.31386265e+00 -1.70475707e+01]\n",
      " [ 7.93895796e+00 -3.37769878e+01]\n",
      " [ 1.01228811e+01 -7.56964286e+01]\n",
      " [ 1.18535265e+01 -7.04743466e+01]\n",
      " [ 1.35500491e+01 -6.43066132e+01]\n",
      " [ 1.50825962e+01 -3.90494450e+01]\n",
      " [ 1.68961063e+01  2.58314208e+01]\n",
      " [ 1.94419622e+01  1.33982948e+01]\n",
      " [ 2.09745809e+01  4.71363226e+01]\n",
      " [ 2.23220840e+01  5.60585198e+01]\n",
      " [ 2.43330494e+01  5.34203804e+01]\n",
      " [ 2.68481821e+01  3.18701233e+01]\n",
      " [ 3.02413493e+01  3.82455956e+01]\n",
      " [ 3.40308309e+01  4.85042631e+01]\n",
      " [ 3.88226300e+01  2.83770237e+01]\n",
      " [ 4.05480683e+01  3.60728218e+01]\n",
      " [ 3.68266702e+01  5.44867791e+00]\n",
      " [ 3.52256417e+01  4.02446483e+00]\n",
      " [ 3.38718832e+01  2.10169492e+01]\n",
      " [ 3.32911998e+01  4.28279883e+01]\n",
      " [ 3.27288240e+01  4.79378069e+01]\n",
      " [ 3.17784756e+01  3.24924484e+02]\n",
      " [ 3.04888874e+01  2.62203279e+02]\n",
      " [ 3.21519256e+01  1.86491494e+02]\n",
      " [ 3.55967760e+01  3.09559286e+01]\n",
      " [ 4.02766764e+01 -3.27651672e+01]\n",
      " [ 4.59784299e+01 -1.16004296e+01]\n",
      " [ 5.30074894e+01 -5.38783195e+00]\n",
      " [ 6.05888784e+01  4.45902724e+01]\n",
      " [ 6.67766333e+01  3.21739130e+01]\n",
      " [ 7.29073942e+01  9.07924874e+01]\n",
      " [ 7.15675771e+01  7.99184700e+01]\n",
      " [ 6.55066967e+01  5.10801988e+01]\n",
      " [ 5.95499218e+01  8.84821864e+01]\n",
      " [ 5.08279502e+01  1.02408257e+02]\n",
      " [ 4.16892022e+01  9.30124193e+01]\n",
      " [ 3.62203896e+01  9.90239887e+01]\n",
      " [ 3.60980988e+01  9.41923436e+01]\n",
      " [ 3.59583557e+01  1.07797510e+02]\n",
      " [ 3.39292049e+01  1.21252351e+02]\n",
      " [ 2.95490652e+01  1.11435378e+02]\n",
      " [ 2.78458744e+01  8.36248099e+01]\n",
      " [ 2.68510401e+01  9.59746801e+01]\n",
      " [ 2.70729184e+01  1.45352718e+02]\n",
      " [ 2.71665335e+01  1.30702836e+02]\n",
      " [ 2.69631267e+01  1.25297691e+02]\n",
      " [ 2.72192895e+01  1.25263791e+02]\n",
      " [ 2.81390250e+01  2.83966438e+01]\n",
      " [ 2.90156156e+01  1.69512878e+01]\n",
      " [ 3.02938998e+01 -1.81642657e+01]\n",
      " [ 3.16088080e+01 -2.43536263e+01]\n",
      " [ 3.32641631e+01 -1.81053203e+01]\n",
      " [ 3.22004378e+01 -2.25189021e+01]\n",
      " [ 3.23240966e+01 -3.75864023e+01]\n",
      " [ 2.84574509e+01 -4.32898573e+01]\n",
      " [ 2.73169965e+01 -5.24244215e+01]\n",
      " [ 2.56678164e+01 -5.40369266e+01]\n",
      " [ 2.23007530e+01 -5.15029470e+01]\n",
      " [ 1.04415156e+01 -4.99474974e+01]\n",
      " [ 4.20940369e+00 -5.24307133e+01]\n",
      " [ 9.92133468e-01 -4.83973695e+01]\n",
      " [ 1.12912329e+00 -4.65500000e+01]\n",
      " [ 3.10693472e-01 -4.53723837e+01]]\n"
     ]
    }
   ],
   "source": [
    "print(perc)"
   ]
  }
 ],
 "metadata": {
  "kernelspec": {
   "display_name": "Python 3",
   "language": "python",
   "name": "python3"
  },
  "language_info": {
   "codemirror_mode": {
    "name": "ipython",
    "version": 3
   },
   "file_extension": ".py",
   "mimetype": "text/x-python",
   "name": "python",
   "nbconvert_exporter": "python",
   "pygments_lexer": "ipython3",
   "version": "3.8.5"
  }
 },
 "nbformat": 4,
 "nbformat_minor": 4
}
